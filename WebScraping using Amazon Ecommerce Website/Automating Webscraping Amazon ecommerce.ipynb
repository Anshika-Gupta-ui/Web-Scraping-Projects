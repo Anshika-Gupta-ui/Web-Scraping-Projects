{
 "cells": [
  {
   "cell_type": "code",
   "execution_count": 1,
   "id": "ac7dc3e6",
   "metadata": {},
   "outputs": [
    {
     "name": "stdout",
     "output_type": "stream",
     "text": [
      "Collecting autoscraper\n",
      "  Downloading autoscraper-1.1.12-py3-none-any.whl (10 kB)\n",
      "Requirement already satisfied: lxml in c:\\users\\lenovo\\anaconda3\\lib\\site-packages (from autoscraper) (4.6.3)\n",
      "Requirement already satisfied: requests in c:\\users\\lenovo\\anaconda3\\lib\\site-packages (from autoscraper) (2.25.1)\n",
      "Collecting bs4\n",
      "  Using cached bs4-0.0.1.tar.gz (1.1 kB)\n",
      "  Preparing metadata (setup.py): started\n",
      "  Preparing metadata (setup.py): finished with status 'done'\n",
      "Requirement already satisfied: beautifulsoup4 in c:\\users\\lenovo\\anaconda3\\lib\\site-packages (from bs4->autoscraper) (4.9.3)\n",
      "Requirement already satisfied: certifi>=2017.4.17 in c:\\users\\lenovo\\anaconda3\\lib\\site-packages (from requests->autoscraper) (2020.12.5)\n",
      "Requirement already satisfied: urllib3<1.27,>=1.21.1 in c:\\users\\lenovo\\anaconda3\\lib\\site-packages (from requests->autoscraper) (1.26.4)\n",
      "Requirement already satisfied: chardet<5,>=3.0.2 in c:\\users\\lenovo\\anaconda3\\lib\\site-packages (from requests->autoscraper) (4.0.0)\n",
      "Requirement already satisfied: idna<3,>=2.5 in c:\\users\\lenovo\\anaconda3\\lib\\site-packages (from requests->autoscraper) (2.10)\n",
      "Requirement already satisfied: soupsieve>1.2 in c:\\users\\lenovo\\anaconda3\\lib\\site-packages (from beautifulsoup4->bs4->autoscraper) (2.2.1)\n",
      "Building wheels for collected packages: bs4\n",
      "  Building wheel for bs4 (setup.py): started\n",
      "  Building wheel for bs4 (setup.py): finished with status 'done'\n",
      "  Created wheel for bs4: filename=bs4-0.0.1-py3-none-any.whl size=1273 sha256=d383ba863363b42aa3b7cda88574ff490434f8cd821a3c2cbaadd922dfdcbac2\n",
      "  Stored in directory: c:\\users\\lenovo\\appdata\\local\\pip\\cache\\wheels\\75\\78\\21\\68b124549c9bdc94f822c02fb9aa3578a669843f9767776bca\n",
      "Successfully built bs4\n",
      "Installing collected packages: bs4, autoscraper\n",
      "Successfully installed autoscraper-1.1.12 bs4-0.0.1\n"
     ]
    },
    {
     "name": "stderr",
     "output_type": "stream",
     "text": [
      "WARNING: You are using pip version 21.3.1; however, version 22.0.3 is available.\n",
      "You should consider upgrading via the 'c:\\users\\lenovo\\anaconda3\\python.exe -m pip install --upgrade pip' command.\n"
     ]
    }
   ],
   "source": [
    "!pip install autoscraper"
   ]
  },
  {
   "cell_type": "code",
   "execution_count": 26,
   "id": "b7e97dc5",
   "metadata": {},
   "outputs": [],
   "source": [
    "from autoscraper import AutoScraper"
   ]
  },
  {
   "cell_type": "code",
   "execution_count": 27,
   "id": "1671a56b",
   "metadata": {},
   "outputs": [],
   "source": [
    "amazon_url=\"https://www.amazon.in/s?k=headphones\"\n",
    "\n",
    "wanted_list=[\"649\", \"boAt Bassheads 900 Wired On Ear Headphones with Mic (Carbon Black)\", \"75,838\"]"
   ]
  },
  {
   "cell_type": "code",
   "execution_count": 28,
   "id": "02ffbb48",
   "metadata": {},
   "outputs": [
    {
     "name": "stdout",
     "output_type": "stream",
     "text": [
      "['649', '1,199', '1,499', '1,299', '1,999', '599', '199', '299', '2,399', '799', '899', '549', '999', 'Amazon\\'s Choicefor \"headphones\"', 'boAt Bassheads 900 Wired On Ear Headphones with Mic (Carbon Black)', 'boAt Rockerz 370 Bluetooth Wireless On Ear Headphone with Mic (Buoyant Black)', 'boAt Rockerz 450 Bluetooth Wireless On Ear Headphone with Mic (Luscious Black)', 'Best sellerin Over-Ear Headphones', 'boAt Rockerz 510 Wireless Bluetooth On Ear Headphones with Mic (Raging Red)', 'boAt Rockerz 550 Bluetooth Wireless Over Ear Headphone with Mic (Black)', 'Boult Audio Bass Buds Q2 Over-Ear Wired Lightweight Stereo Headphones, Deep Bass & in-Built Mic, Headset with Comfortable Ear Cushions, Long Cord (Black)', 'pTron Pride Lite HBE (High Bass Earphones) in-Ear Wired Headphones with in-line Mic, 10mm Powerful Driver for Stereo Audio, Noise Cancelling Headset with 1.2m Tangle-Free Cable & 3.5mm Aux (Gray)', 'Boult Audio BassBuds Storm-X in-Ear Wired Earphones with Mic and Full Metal Body for Extra Bass & HD Sound (Red)', 'JBL T460BT by Harman, Wireless On Ear Headphones with Mic, Pure Bass, Portable, Lightweight & Flat Foldable, Voice Assistant Support for Mobiles (Black)', 'Sony MDR-ZX110A Wired On Ear Headphone without Mic (White)', 'pTron Tangent Lite Bluetooth 5.0 Wireless Headphones with Hi-Fi Stereo Sound, 8Hrs Playtime, Lightweight Ergonomic Neckband, Sweat-Resistant Magnetic Earbuds, Voice Assistant & Mic - (Black)', 'Boult Audio ProBass Curve Bluetooth Earphones with 12H Battery Life & Extra Bass, IPX5 Water Resistant Headphones (Black)', 'pTron Bassbuds Duo New Bluetooth 5.1 Wireless Headphones, 32Hrs Total Playtime, Stereo Audio, Touch Control TWS, Dual HD Mic, Type-C Fast Charging, IPX4 Water-Resistant & Voice Assistance (Black)', 'boAt Bassheads 225 in Ear Wired Earphones with Mic(Blue)', 'Boult Audio ProBass Curve-X Bluetooth Earphones with Fast Charging & 15H Battery Life, Extra Bass, IPX5 Water Resistant Headphones (Black)', 'pTron Studio Over Ear Bluetooth 5.0 Wireless Headphones with Mic, Hi-Fi Sound with Deep Bass, 12Hrs Playback, Ergonomic & Lightweight Wireless Headset, Soft Cushions Earpads, Aux Port - (Black)', 'Boult Audio Bass Buds Q2 Over-Ear Wired Lightweight Stereo Headphones, Deep Bass & in-Built Mic, Headset with Comfortable ...', 'pTron Pride Lite HBE (High Bass Earphones) in-Ear Wired Headphones with in-line Mic, 10mm Powerful Driver for Stereo Audi...', 'JBL T460BT by Harman, Wireless On Ear Headphones with Mic, Pure Bass, Portable, Lightweight & Flat Foldable, Voice Assista...', 'pTron Tangent Lite Bluetooth 5.0 Wireless Headphones with Hi-Fi Stereo Sound, 8Hrs Playtime, Lightweight Ergonomic Neckban...', 'pTron Bassbuds Duo New Bluetooth 5.1 Wireless Headphones, 32Hrs Total Playtime, Stereo Audio, Touch Control TWS, Dual HD M...', 'Boult Audio ProBass Curve-X Bluetooth Earphones with Fast Charging & 15H Battery Life, Extra Bass, IPX5 Water Resistant He...', 'pTron Studio Over Ear Bluetooth 5.0 Wireless Headphones with Mic, Hi-Fi Sound with Deep Bass, 12Hrs Playback, Ergonomic & ...', '75,838', '21,163', '73,850', '60,984', '39,346', '10,651', '40,225', '30,622', '24,334', '82,776', '69,792', '103,543', '21,490', '229,153', '14,397']\n"
     ]
    }
   ],
   "source": [
    "scraper=AutoScraper()\n",
    "result=scraper.build(amazon_url,wanted_list)\n",
    "print(result)"
   ]
  },
  {
   "cell_type": "code",
   "execution_count": 29,
   "id": "e38a8606",
   "metadata": {},
   "outputs": [
    {
     "data": {
      "text/plain": [
       "{'rule_u4jg': ['649',\n",
       "  '199',\n",
       "  '1,199',\n",
       "  '1,499',\n",
       "  '1,299',\n",
       "  '1,999',\n",
       "  '599',\n",
       "  '199',\n",
       "  '299',\n",
       "  '2,399',\n",
       "  '799',\n",
       "  '599',\n",
       "  '899',\n",
       "  '799',\n",
       "  '549',\n",
       "  '999'],\n",
       " 'rule_0tkb': ['Amazon\\'s Choicefor \"headphones\"',\n",
       "  'boAt Bassheads 900 Wired On Ear Headphones with Mic (Carbon Black)',\n",
       "  'BLAXSTOC B11 Neckband Bluetooth Headphones Up to 8 Hrs Battery Backup Wireless Sport Stereo Headsets Hands-Free Earphones with Inbuilt Mic for All Smartphones & Tablets',\n",
       "  'boAt Rockerz 370 Bluetooth Wireless On Ear Headphone with Mic (Buoyant Black)',\n",
       "  'boAt Rockerz 450 Bluetooth Wireless On Ear Headphone with Mic (Luscious Black)',\n",
       "  'Best sellerin Over-Ear Headphones',\n",
       "  'boAt Rockerz 510 Wireless Bluetooth On Ear Headphones with Mic (Raging Red)',\n",
       "  'boAt Rockerz 550 Bluetooth Wireless Over Ear Headphone with Mic (Black)',\n",
       "  'Boult Audio Bass Buds Q2 Over-Ear Wired Lightweight Stereo Headphones, Deep Bass & in-Built Mic, Headset with Comfortable Ear Cushions, Long Cord (Black)',\n",
       "  'pTron Pride Lite HBE (High Bass Earphones) in-Ear Wired Headphones with in-line Mic, 10mm Powerful Driver for Stereo Audio, Noise Cancelling Headset with 1.2m Tangle-Free Cable & 3.5mm Aux (Gray)',\n",
       "  'Boult Audio BassBuds Storm-X in-Ear Wired Earphones with Mic and Full Metal Body for Extra Bass & HD Sound (Red)',\n",
       "  'JBL T460BT by Harman, Wireless On Ear Headphones with Mic, Pure Bass, Portable, Lightweight & Flat Foldable, Voice Assistant Support for Mobiles (Black)',\n",
       "  'Sony MDR-ZX110A Wired On Ear Headphone without Mic (White)',\n",
       "  'pTron Tangent Lite Bluetooth 5.0 Wireless Headphones with Hi-Fi Stereo Sound, 8Hrs Playtime, Lightweight Ergonomic Neckband, Sweat-Resistant Magnetic Earbuds, Voice Assistant & Mic - (Black)',\n",
       "  'Boult Audio ProBass Curve Bluetooth Earphones with 12H Battery Life & Extra Bass, IPX5 Water Resistant Headphones (Black)',\n",
       "  'pTron Bassbuds Duo New Bluetooth 5.1 Wireless Headphones, 32Hrs Total Playtime, Stereo Audio, Touch Control TWS, Dual HD Mic, Type-C Fast Charging, IPX4 Water-Resistant & Voice Assistance (Black)',\n",
       "  'boAt Bassheads 225 in Ear Wired Earphones with Mic(Blue)',\n",
       "  'Boult Audio ProBass Curve-X Bluetooth Earphones with Fast Charging & 15H Battery Life, Extra Bass, IPX5 Water Resistant Headphones (Black)'],\n",
       " 'rule_9sms': ['boAt Bassheads 900 Wired On Ear Headphones with Mic (Carbon Black)',\n",
       "  'BLAXSTOC B11 Neckband Bluetooth Headphones Up to 8 Hrs Battery Backup Wireless Sport Stereo Headsets Hands-Free Earphones ...',\n",
       "  'boAt Rockerz 370 Bluetooth Wireless On Ear Headphone with Mic (Buoyant Black)',\n",
       "  'boAt Rockerz 450 Bluetooth Wireless On Ear Headphone with Mic (Luscious Black)',\n",
       "  'boAt Rockerz 510 Wireless Bluetooth On Ear Headphones with Mic (Raging Red)',\n",
       "  'boAt Rockerz 550 Bluetooth Wireless Over Ear Headphone with Mic (Black)',\n",
       "  'Boult Audio Bass Buds Q2 Over-Ear Wired Lightweight Stereo Headphones, Deep Bass & in-Built Mic, Headset with Comfortable ...',\n",
       "  'pTron Pride Lite HBE (High Bass Earphones) in-Ear Wired Headphones with in-line Mic, 10mm Powerful Driver for Stereo Audi...',\n",
       "  'Boult Audio BassBuds Storm-X in-Ear Wired Earphones with Mic and Full Metal Body for Extra Bass & HD Sound (Red)',\n",
       "  'JBL T460BT by Harman, Wireless On Ear Headphones with Mic, Pure Bass, Portable, Lightweight & Flat Foldable, Voice Assista...',\n",
       "  'Sony MDR-ZX110A Wired On Ear Headphone without Mic (White)',\n",
       "  'pTron Tangent Lite Bluetooth 5.0 Wireless Headphones with Hi-Fi Stereo Sound, 8Hrs Playtime, Lightweight Ergonomic Neckban...',\n",
       "  'Boult Audio ProBass Curve Bluetooth Earphones with 12H Battery Life & Extra Bass, IPX5 Water Resistant Headphones (Black)',\n",
       "  'pTron Bassbuds Duo New Bluetooth 5.1 Wireless Headphones, 32Hrs Total Playtime, Stereo Audio, Touch Control TWS, Dual HD M...',\n",
       "  'boAt Bassheads 225 in Ear Wired Earphones with Mic(Blue)',\n",
       "  'Boult Audio ProBass Curve-X Bluetooth Earphones with Fast Charging & 15H Battery Life, Extra Bass, IPX5 Water Resistant He...'],\n",
       " 'rule_kv60': ['75,838',\n",
       "  '21,163',\n",
       "  '73,850',\n",
       "  '60,984',\n",
       "  '39,346',\n",
       "  '10,651',\n",
       "  '40,225',\n",
       "  '30,622',\n",
       "  '24,334',\n",
       "  '82,776',\n",
       "  '69,792',\n",
       "  '103,543',\n",
       "  '21,490',\n",
       "  '229,153',\n",
       "  '103,543']}"
      ]
     },
     "execution_count": 29,
     "metadata": {},
     "output_type": "execute_result"
    }
   ],
   "source": [
    "scraper.get_result_similar(amazon_url,grouped=True)"
   ]
  },
  {
   "cell_type": "code",
   "execution_count": 44,
   "id": "22514328",
   "metadata": {},
   "outputs": [],
   "source": [
    "scraper.set_rule_aliases({'rule_0tkb':'Title'})\n",
    "scraper.keep_rules(['rule_0tkb'])\n",
    "scraper.save('amazon-search')"
   ]
  },
  {
   "cell_type": "code",
   "execution_count": 41,
   "id": "130eb8f1",
   "metadata": {},
   "outputs": [],
   "source": [
    "results=scraper.get_result_similar('https://www.amazon.in/s?k=mi+phones+under+15000', group_by_alias=True)"
   ]
  },
  {
   "cell_type": "code",
   "execution_count": 42,
   "id": "106e6e0f",
   "metadata": {},
   "outputs": [
    {
     "data": {
      "text/plain": [
       "['Mi Xiaomi Max (Gold, 32GB)',\n",
       " 'REDMI 9i Sport (Coral Green, 64 GB) (4 GB RAM)',\n",
       " '(Renewed) Redmi 6 Pro (Blue, 3GB RAM, 32GB Storage)',\n",
       " 'Redmi 9i Sport (Metallic Blue, 64 GB) (4 GB RAM)',\n",
       " '(Renewed) Mi Mix 2 (Black)',\n",
       " '(Renewed) Redmi 6 Pro (Gold, 3GB RAM, 32GB Storage)',\n",
       " '(Renewed) MI Poco M2 Pro (Two Shades of Black, 4GB RAM, 64GB Internal Storage)',\n",
       " '(Renewed) MI Poco M2 Pro (Two Shades of Black, 6GB RAM, 64GB Storage)',\n",
       " 'REDMI 9i Sport (Carbon Black, 64 GB) (4 GB RAM)',\n",
       " '(Renewed) Redmi Note 5 Pro (Gold, 4GB RAM, 64GB Storage)',\n",
       " 'Redmi 6 (Rose Gold, 3GB RAM, 32GB Storage)',\n",
       " '(Renewed) Mi Redmi Note 4G Note 4G (White, 8GB)',\n",
       " 'Xiaomi Mi Max Prime (Gold, 128GB)',\n",
       " '(Renewed) Xiaomi Mi A3 (Not just Blue, 6GB RAM, AMOLED Display, 128GB Storage, 4030mAH Battery)',\n",
       " 'Mi Redmi 8A Phone (Sunset Red, 2GB RAM, 32GB Storage)',\n",
       " 'Redmi 6 (Gold, 3GB RAM, 32GB Storage)']"
      ]
     },
     "execution_count": 42,
     "metadata": {},
     "output_type": "execute_result"
    }
   ],
   "source": [
    "results['Title']"
   ]
  },
  {
   "cell_type": "code",
   "execution_count": null,
   "id": "dff27aac",
   "metadata": {},
   "outputs": [],
   "source": []
  }
 ],
 "metadata": {
  "kernelspec": {
   "display_name": "Python 3 (ipykernel)",
   "language": "python",
   "name": "python3"
  },
  "language_info": {
   "codemirror_mode": {
    "name": "ipython",
    "version": 3
   },
   "file_extension": ".py",
   "mimetype": "text/x-python",
   "name": "python",
   "nbconvert_exporter": "python",
   "pygments_lexer": "ipython3",
   "version": "3.8.8"
  }
 },
 "nbformat": 4,
 "nbformat_minor": 5
}
